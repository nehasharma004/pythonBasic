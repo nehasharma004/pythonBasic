{
 "cells": [
  {
   "cell_type": "code",
   "execution_count": 1,
   "id": "cc728370-7035-4909-ac03-57f4826323e2",
   "metadata": {},
   "outputs": [
    {
     "data": {
      "text/plain": [
       "3"
      ]
     },
     "execution_count": 1,
     "metadata": {},
     "output_type": "execute_result"
    }
   ],
   "source": [
    "1 + 2\n"
   ]
  },
  {
   "cell_type": "code",
   "execution_count": 2,
   "id": "228b0be2-6fe9-4450-bb0c-fe4c9e38adf4",
   "metadata": {},
   "outputs": [],
   "source": [
    "# Can not start with number or special characters\n",
    "name_of_var = 2"
   ]
  },
  {
   "cell_type": "code",
   "execution_count": 3,
   "id": "6096e8f4-d5c0-46fa-89f0-6bc622a94b14",
   "metadata": {},
   "outputs": [],
   "source": [
    "x = 2\n",
    "y = 3"
   ]
  },
  {
   "cell_type": "code",
   "execution_count": 4,
   "id": "a86eedf1-a54c-4604-9d29-0efbf1fa8970",
   "metadata": {},
   "outputs": [],
   "source": [
    "seq = [1,2,3,4,5]"
   ]
  },
  {
   "cell_type": "code",
   "execution_count": 5,
   "id": "3179fb35-083a-4279-9e94-43c60badc66c",
   "metadata": {},
   "outputs": [
    {
     "data": {
      "text/plain": [
       "[1, 2, 3, 4, 5]"
      ]
     },
     "execution_count": 5,
     "metadata": {},
     "output_type": "execute_result"
    }
   ],
   "source": [
    "seq"
   ]
  },
  {
   "cell_type": "code",
   "execution_count": 6,
   "id": "5c1f6f7e-49dc-43df-996f-ccdfc8dedada",
   "metadata": {},
   "outputs": [
    {
     "name": "stdout",
     "output_type": "stream",
     "text": [
      "1\n",
      "2\n",
      "3\n",
      "4\n",
      "5\n"
     ]
    }
   ],
   "source": [
    "for item in seq:\n",
    "    print(item)"
   ]
  },
  {
   "cell_type": "code",
   "execution_count": 9,
   "id": "c15dffc3-0544-44a8-95ba-489a8d283560",
   "metadata": {},
   "outputs": [
    {
     "name": "stdout",
     "output_type": "stream",
     "text": [
      "Hello\n",
      "Hello\n",
      "Hello\n",
      "Hello\n",
      "Hello\n"
     ]
    }
   ],
   "source": [
    "for item in seq:\n",
    "    print('Hello')"
   ]
  },
  {
   "cell_type": "code",
   "execution_count": 10,
   "id": "be9b2e90-28e3-447a-ac70-2f888a96879f",
   "metadata": {},
   "outputs": [
    {
     "name": "stdout",
     "output_type": "stream",
     "text": [
      "3\n",
      "6\n",
      "9\n",
      "12\n",
      "15\n"
     ]
    }
   ],
   "source": [
    "for hi in seq:\n",
    "    print(hi+hi+hi)"
   ]
  },
  {
   "cell_type": "code",
   "execution_count": 11,
   "id": "5776b59e-fc75-41c3-a472-a97d9c57ea35",
   "metadata": {},
   "outputs": [],
   "source": [
    "lst = [1,2,[3,4],[5,[100,200,['hello']],23,11],1,7]"
   ]
  },
  {
   "cell_type": "code",
   "execution_count": 12,
   "id": "16dfba94-2743-42eb-85d7-4f077d94d02d",
   "metadata": {},
   "outputs": [
    {
     "data": {
      "text/plain": [
       "[1, 2, [3, 4], [5, [100, 200, ['hello']], 23, 11], 1, 7]"
      ]
     },
     "execution_count": 12,
     "metadata": {},
     "output_type": "execute_result"
    }
   ],
   "source": [
    "lst"
   ]
  },
  {
   "cell_type": "code",
   "execution_count": 13,
   "id": "7325c9db-4067-4180-b8c3-beff0eeaa4ce",
   "metadata": {},
   "outputs": [
    {
     "data": {
      "text/plain": [
       "[5, [100, 200, ['hello']], 23, 11]"
      ]
     },
     "execution_count": 13,
     "metadata": {},
     "output_type": "execute_result"
    }
   ],
   "source": [
    "lst[3]"
   ]
  },
  {
   "cell_type": "code",
   "execution_count": 15,
   "id": "3231cb59-e739-4f50-a3b1-55f2431f34c5",
   "metadata": {},
   "outputs": [],
   "source": [
    "lst1=lst[3]"
   ]
  },
  {
   "cell_type": "code",
   "execution_count": 16,
   "id": "c79eeaf6-d754-43ea-aa1b-091c53a51826",
   "metadata": {},
   "outputs": [
    {
     "data": {
      "text/plain": [
       "[5, [100, 200, ['hello']], 23, 11]"
      ]
     },
     "execution_count": 16,
     "metadata": {},
     "output_type": "execute_result"
    }
   ],
   "source": [
    "lst1"
   ]
  },
  {
   "cell_type": "code",
   "execution_count": 18,
   "id": "88fb7506-03df-4976-a800-c238ddfc21ae",
   "metadata": {},
   "outputs": [
    {
     "data": {
      "text/plain": [
       "[100, 200, ['hello']]"
      ]
     },
     "execution_count": 18,
     "metadata": {},
     "output_type": "execute_result"
    }
   ],
   "source": [
    "lst1[1]"
   ]
  },
  {
   "cell_type": "code",
   "execution_count": 21,
   "id": "8a2aef6f-bd27-4f94-a16a-195fcc0562ec",
   "metadata": {},
   "outputs": [],
   "source": [
    "lst2=lst1[1]"
   ]
  },
  {
   "cell_type": "code",
   "execution_count": 22,
   "id": "cfb72c07-98e4-4f56-a5d7-7df2843e6a50",
   "metadata": {},
   "outputs": [
    {
     "data": {
      "text/plain": [
       "[100, 200, ['hello']]"
      ]
     },
     "execution_count": 22,
     "metadata": {},
     "output_type": "execute_result"
    }
   ],
   "source": [
    "lst2"
   ]
  },
  {
   "cell_type": "code",
   "execution_count": 23,
   "id": "7c085280-16a4-4d66-8f50-ac87d8bd03bf",
   "metadata": {},
   "outputs": [
    {
     "data": {
      "text/plain": [
       "['hello']"
      ]
     },
     "execution_count": 23,
     "metadata": {},
     "output_type": "execute_result"
    }
   ],
   "source": [
    "lst2[2]"
   ]
  },
  {
   "cell_type": "code",
   "execution_count": 24,
   "id": "087c3f10-0a36-447d-b533-a35fea97801b",
   "metadata": {},
   "outputs": [],
   "source": [
    "d = {'k1':[1,2,3,{'tricky':['oh','man','inception',{'target':[1,2,3,'hello']}]}]}"
   ]
  },
  {
   "cell_type": "code",
   "execution_count": 29,
   "id": "67a6acf3-e35b-448d-9fee-98ff9d3e7b99",
   "metadata": {},
   "outputs": [
    {
     "data": {
      "text/plain": [
       "[1,\n",
       " 2,\n",
       " 3,\n",
       " {'tricky': ['oh', 'man', 'inception', {'target': [1, 2, 3, 'hello']}]}]"
      ]
     },
     "execution_count": 29,
     "metadata": {},
     "output_type": "execute_result"
    }
   ],
   "source": [
    "d ['k1']"
   ]
  },
  {
   "cell_type": "code",
   "execution_count": 30,
   "id": "dac38eef-437d-404a-be79-bc17d9f06b19",
   "metadata": {},
   "outputs": [],
   "source": [
    "d1 = d ['k1']"
   ]
  },
  {
   "cell_type": "code",
   "execution_count": 31,
   "id": "fbab54c5-ede7-4c99-aafc-d8a4cbc5eb53",
   "metadata": {},
   "outputs": [
    {
     "data": {
      "text/plain": [
       "[1,\n",
       " 2,\n",
       " 3,\n",
       " {'tricky': ['oh', 'man', 'inception', {'target': [1, 2, 3, 'hello']}]}]"
      ]
     },
     "execution_count": 31,
     "metadata": {},
     "output_type": "execute_result"
    }
   ],
   "source": [
    "d1"
   ]
  },
  {
   "cell_type": "code",
   "execution_count": 33,
   "id": "a132adda-b349-4419-bc22-4bf596174fd3",
   "metadata": {},
   "outputs": [
    {
     "data": {
      "text/plain": [
       "{'tricky': ['oh', 'man', 'inception', {'target': [1, 2, 3, 'hello']}]}"
      ]
     },
     "execution_count": 33,
     "metadata": {},
     "output_type": "execute_result"
    }
   ],
   "source": [
    "d1[3]"
   ]
  },
  {
   "cell_type": "code",
   "execution_count": 34,
   "id": "2d07ef10-9aef-4767-b63a-b21105e61f7d",
   "metadata": {},
   "outputs": [],
   "source": [
    "d2 = d1[3]"
   ]
  },
  {
   "cell_type": "code",
   "execution_count": 35,
   "id": "6e1ddcaf-42e3-4d2f-8b58-a77b0909e8f1",
   "metadata": {},
   "outputs": [
    {
     "data": {
      "text/plain": [
       "{'tricky': ['oh', 'man', 'inception', {'target': [1, 2, 3, 'hello']}]}"
      ]
     },
     "execution_count": 35,
     "metadata": {},
     "output_type": "execute_result"
    }
   ],
   "source": [
    "d2"
   ]
  },
  {
   "cell_type": "code",
   "execution_count": 36,
   "id": "55ce4413-e2a9-449f-88bd-71ecc27ddb4e",
   "metadata": {},
   "outputs": [
    {
     "data": {
      "text/plain": [
       "['oh', 'man', 'inception', {'target': [1, 2, 3, 'hello']}]"
      ]
     },
     "execution_count": 36,
     "metadata": {},
     "output_type": "execute_result"
    }
   ],
   "source": [
    "d2['tricky']"
   ]
  },
  {
   "cell_type": "code",
   "execution_count": 37,
   "id": "e6cddac4-1402-41da-b308-c1f72c25d6bf",
   "metadata": {},
   "outputs": [],
   "source": [
    "lst=d2['tricky']"
   ]
  },
  {
   "cell_type": "code",
   "execution_count": 38,
   "id": "6bf12bec-c57d-4378-948f-5fa168483a82",
   "metadata": {},
   "outputs": [
    {
     "data": {
      "text/plain": [
       "['oh', 'man', 'inception', {'target': [1, 2, 3, 'hello']}]"
      ]
     },
     "execution_count": 38,
     "metadata": {},
     "output_type": "execute_result"
    }
   ],
   "source": [
    "lst"
   ]
  },
  {
   "cell_type": "code",
   "execution_count": 39,
   "id": "ebe6b426-2103-4e4d-b15b-8f0ce6ded74f",
   "metadata": {},
   "outputs": [],
   "source": [
    "lst1=lst[3]"
   ]
  },
  {
   "cell_type": "code",
   "execution_count": 41,
   "id": "659cfb6e-d978-42db-9786-9e775614e852",
   "metadata": {},
   "outputs": [
    {
     "data": {
      "text/plain": [
       "{'target': [1, 2, 3, 'hello']}"
      ]
     },
     "execution_count": 41,
     "metadata": {},
     "output_type": "execute_result"
    }
   ],
   "source": [
    "lst1"
   ]
  },
  {
   "cell_type": "code",
   "execution_count": 42,
   "id": "0462e5d2-4ab5-4795-8924-1892f1875b3e",
   "metadata": {},
   "outputs": [
    {
     "data": {
      "text/plain": [
       "[1, 2, 3, 'hello']"
      ]
     },
     "execution_count": 42,
     "metadata": {},
     "output_type": "execute_result"
    }
   ],
   "source": [
    "lst1['target']"
   ]
  },
  {
   "cell_type": "code",
   "execution_count": 44,
   "id": "8778422c-d2fd-4b1d-8614-9ed01af98067",
   "metadata": {},
   "outputs": [],
   "source": [
    "lst2=lst1['target']"
   ]
  },
  {
   "cell_type": "code",
   "execution_count": 45,
   "id": "905d8e63-aef1-4524-aa72-0a5cdf1deb12",
   "metadata": {},
   "outputs": [
    {
     "data": {
      "text/plain": [
       "'hello'"
      ]
     },
     "execution_count": 45,
     "metadata": {},
     "output_type": "execute_result"
    }
   ],
   "source": [
    "lst2[3]"
   ]
  },
  {
   "cell_type": "code",
   "execution_count": 60,
   "id": "9c0c2f34-add8-4fba-b4e0-3f1f626c800e",
   "metadata": {},
   "outputs": [],
   "source": [
    "def domainGet(email='user@domain.com'):\n",
    "    \n",
    "    return('domain.com')"
   ]
  },
  {
   "cell_type": "code",
   "execution_count": 61,
   "id": "a9dd6450-9930-4517-b2ae-94f39d3ba536",
   "metadata": {},
   "outputs": [
    {
     "data": {
      "text/plain": [
       "<function __main__.domainGet(email='user@domain.com')>"
      ]
     },
     "execution_count": 61,
     "metadata": {},
     "output_type": "execute_result"
    }
   ],
   "source": [
    "domainGet"
   ]
  },
  {
   "cell_type": "code",
   "execution_count": 62,
   "id": "78aa2ab0-5709-412f-afd4-6ec327d59801",
   "metadata": {},
   "outputs": [
    {
     "data": {
      "text/plain": [
       "'domain.com'"
      ]
     },
     "execution_count": 62,
     "metadata": {},
     "output_type": "execute_result"
    }
   ],
   "source": [
    "domainGet('user@domain.com')"
   ]
  },
  {
   "cell_type": "code",
   "execution_count": 99,
   "id": "f9e9484a-d3ca-48be-98c4-1de6b70f16f8",
   "metadata": {},
   "outputs": [],
   "source": [
    "def findDog(testString):\n",
    "    lst = [testString]\n",
    "    for i in lst:\n",
    "        print (i)\n",
    "        if i == 'dog':\n",
    "          return 'Dog Here'\n",
    "    "
   ]
  },
  {
   "cell_type": "code",
   "execution_count": 100,
   "id": "9e7450eb-6967-4417-8474-5923e6e663bc",
   "metadata": {},
   "outputs": [
    {
     "name": "stdout",
     "output_type": "stream",
     "text": [
      "dog is here\n"
     ]
    }
   ],
   "source": [
    "findDog('dog is here')"
   ]
  },
  {
   "cell_type": "code",
   "execution_count": 101,
   "id": "6b95dcc8-2046-46c9-ad5c-eb30b9d2d8e3",
   "metadata": {},
   "outputs": [
    {
     "data": {
      "text/plain": [
       "3"
      ]
     },
     "execution_count": 101,
     "metadata": {},
     "output_type": "execute_result"
    }
   ],
   "source": [
    "7^4"
   ]
  },
  {
   "cell_type": "code",
   "execution_count": 96,
   "id": "fcb673a5-cc7a-48ad-8702-d9131632467a",
   "metadata": {},
   "outputs": [
    {
     "data": {
      "text/plain": [
       "2401"
      ]
     },
     "execution_count": 96,
     "metadata": {},
     "output_type": "execute_result"
    }
   ],
   "source": [
    "7 **4"
   ]
  },
  {
   "cell_type": "code",
   "execution_count": 97,
   "id": "14583597-b3eb-4abd-a306-eb5667e6acc2",
   "metadata": {},
   "outputs": [],
   "source": [
    "s = \"Hi there Sam!\""
   ]
  },
  {
   "cell_type": "code",
   "execution_count": 106,
   "id": "985a9702-3137-4194-b2f7-826c6516ee4c",
   "metadata": {},
   "outputs": [
    {
     "data": {
      "text/plain": [
       "['Hi', 'there', 'Sam!']"
      ]
     },
     "execution_count": 106,
     "metadata": {},
     "output_type": "execute_result"
    }
   ],
   "source": [
    "s.split()"
   ]
  },
  {
   "cell_type": "code",
   "execution_count": 107,
   "id": "a3b51a1e-aa71-418c-a70e-7190f0cf13c7",
   "metadata": {},
   "outputs": [],
   "source": [
    "planet = \"Earth\"\n",
    "diameter = 12742"
   ]
  },
  {
   "cell_type": "code",
   "execution_count": 108,
   "id": "b73ce0eb-4c9a-44c9-b559-6414eb847f14",
   "metadata": {},
   "outputs": [
    {
     "name": "stdout",
     "output_type": "stream",
     "text": [
      "The diameter of Earth is 12742 kilometers.\n"
     ]
    }
   ],
   "source": [
    "print(\"The diameter of {} is {} kilometers.\".format(planet,diameter))"
   ]
  },
  {
   "cell_type": "code",
   "execution_count": 109,
   "id": "f2e584f7-e7e4-40a0-8800-5eb4a06a034e",
   "metadata": {},
   "outputs": [],
   "source": [
    "lst = [1,2,[3,4],[5,[100,200,['hello']],23,11],1,7]"
   ]
  },
  {
   "cell_type": "code",
   "execution_count": 110,
   "id": "4bfa84b5-3261-4fef-8164-25de13e2c0bb",
   "metadata": {},
   "outputs": [
    {
     "data": {
      "text/plain": [
       "[5, [100, 200, ['hello']], 23, 11]"
      ]
     },
     "execution_count": 110,
     "metadata": {},
     "output_type": "execute_result"
    }
   ],
   "source": [
    "lst[3]"
   ]
  },
  {
   "cell_type": "code",
   "execution_count": 111,
   "id": "8c014abb-e416-4ff8-b84d-ffab2dbad105",
   "metadata": {},
   "outputs": [
    {
     "data": {
      "text/plain": [
       "[100, 200, ['hello']]"
      ]
     },
     "execution_count": 111,
     "metadata": {},
     "output_type": "execute_result"
    }
   ],
   "source": [
    "lst[3][1]"
   ]
  },
  {
   "cell_type": "code",
   "execution_count": 112,
   "id": "117ed2db-9e12-4c00-bb99-3e304a9e1f69",
   "metadata": {},
   "outputs": [
    {
     "data": {
      "text/plain": [
       "['hello']"
      ]
     },
     "execution_count": 112,
     "metadata": {},
     "output_type": "execute_result"
    }
   ],
   "source": [
    "lst[3][1][2]"
   ]
  },
  {
   "cell_type": "code",
   "execution_count": 113,
   "id": "deb0e720-82f8-4f05-b8ae-f4f8023227a5",
   "metadata": {},
   "outputs": [
    {
     "data": {
      "text/plain": [
       "'hello'"
      ]
     },
     "execution_count": 113,
     "metadata": {},
     "output_type": "execute_result"
    }
   ],
   "source": [
    "lst[3][1][2][0]"
   ]
  },
  {
   "cell_type": "code",
   "execution_count": 114,
   "id": "a7ca102e-db94-4246-8321-5766e21ec782",
   "metadata": {},
   "outputs": [],
   "source": [
    "d = {'k1':[1,2,3,{'tricky':['oh','man','inception',{'target':[1,2,3,'hello']}]}]}"
   ]
  },
  {
   "cell_type": "code",
   "execution_count": 115,
   "id": "c1648802-3c1b-4d0c-b87d-6c0b243cf805",
   "metadata": {},
   "outputs": [
    {
     "data": {
      "text/plain": [
       "[1,\n",
       " 2,\n",
       " 3,\n",
       " {'tricky': ['oh', 'man', 'inception', {'target': [1, 2, 3, 'hello']}]}]"
      ]
     },
     "execution_count": 115,
     "metadata": {},
     "output_type": "execute_result"
    }
   ],
   "source": [
    "d['k1']"
   ]
  },
  {
   "cell_type": "code",
   "execution_count": 117,
   "id": "28b423b5-769f-4c34-9044-377c4af11b88",
   "metadata": {},
   "outputs": [
    {
     "data": {
      "text/plain": [
       "{'tricky': ['oh', 'man', 'inception', {'target': [1, 2, 3, 'hello']}]}"
      ]
     },
     "execution_count": 117,
     "metadata": {},
     "output_type": "execute_result"
    }
   ],
   "source": [
    "d['k1'][3]"
   ]
  },
  {
   "cell_type": "code",
   "execution_count": 118,
   "id": "e1908984-d199-4043-bec6-9f4a88028169",
   "metadata": {},
   "outputs": [
    {
     "data": {
      "text/plain": [
       "['oh', 'man', 'inception', {'target': [1, 2, 3, 'hello']}]"
      ]
     },
     "execution_count": 118,
     "metadata": {},
     "output_type": "execute_result"
    }
   ],
   "source": [
    "d['k1'][3]['tricky']"
   ]
  },
  {
   "cell_type": "code",
   "execution_count": 119,
   "id": "f5d71bd5-ae7c-4392-bc71-dc943d2d492f",
   "metadata": {},
   "outputs": [
    {
     "data": {
      "text/plain": [
       "{'target': [1, 2, 3, 'hello']}"
      ]
     },
     "execution_count": 119,
     "metadata": {},
     "output_type": "execute_result"
    }
   ],
   "source": [
    "d['k1'][3]['tricky'][3]"
   ]
  },
  {
   "cell_type": "code",
   "execution_count": 120,
   "id": "9d9a8b3d-928f-409d-ab3c-2c3be413bdcc",
   "metadata": {},
   "outputs": [
    {
     "data": {
      "text/plain": [
       "[1, 2, 3, 'hello']"
      ]
     },
     "execution_count": 120,
     "metadata": {},
     "output_type": "execute_result"
    }
   ],
   "source": [
    "d['k1'][3]['tricky'][3]['target']"
   ]
  },
  {
   "cell_type": "code",
   "execution_count": 121,
   "id": "aae82928-a814-4e41-a942-65a70d8f7567",
   "metadata": {},
   "outputs": [
    {
     "data": {
      "text/plain": [
       "'hello'"
      ]
     },
     "execution_count": 121,
     "metadata": {},
     "output_type": "execute_result"
    }
   ],
   "source": [
    "d['k1'][3]['tricky'][3]['target'][3]"
   ]
  },
  {
   "cell_type": "code",
   "execution_count": 124,
   "id": "816f2379-c738-452e-bd8e-701c8b05ea80",
   "metadata": {},
   "outputs": [],
   "source": [
    "def domainGet(email): return email.split('@')[-1] "
   ]
  },
  {
   "cell_type": "code",
   "execution_count": 126,
   "id": "98007c3f-b581-4f4e-be93-dcb8d5eed474",
   "metadata": {},
   "outputs": [
    {
     "data": {
      "text/plain": [
       "'domain.com'"
      ]
     },
     "execution_count": 126,
     "metadata": {},
     "output_type": "execute_result"
    }
   ],
   "source": [
    "domainGet('user@domain.com')"
   ]
  },
  {
   "cell_type": "code",
   "execution_count": 135,
   "id": "ef5c22e4-cb6b-4679-a49e-76c0b4608172",
   "metadata": {},
   "outputs": [],
   "source": [
    "def findDog(str): \n",
    "    lst = str.split()\n",
    "    for i in str:\n",
    "     if i == 'dog' or 'Dog':\n",
    "      return True"
   ]
  },
  {
   "cell_type": "code",
   "execution_count": 136,
   "id": "a878ba21-ed8d-457c-bd70-b0cbbae5757c",
   "metadata": {},
   "outputs": [
    {
     "data": {
      "text/plain": [
       "True"
      ]
     },
     "execution_count": 136,
     "metadata": {},
     "output_type": "execute_result"
    }
   ],
   "source": [
    "findDog('Dog is a faithful Animal')"
   ]
  },
  {
   "cell_type": "code",
   "execution_count": 179,
   "id": "a2658c39-87ab-48f8-9a0d-8c96f2c10058",
   "metadata": {},
   "outputs": [],
   "source": [
    "def countDog(str): \n",
    "    count = 0\n",
    "    lst = str.split()\n",
    "    print (lst)\n",
    "    for i  in lst:\n",
    "     print(i)\n",
    "     if i == 'Dog':\n",
    "      count = count+1\n",
    "    return count"
   ]
  },
  {
   "cell_type": "code",
   "execution_count": 181,
   "id": "7de2c462-ecff-4ca4-9944-e71313ebbf95",
   "metadata": {},
   "outputs": [
    {
     "name": "stdout",
     "output_type": "stream",
     "text": [
      "['Dog', 'is', 'a', 'faithful', 'Animal,', 'Dog', 'is', 'cute.']\n",
      "Dog\n",
      "is\n",
      "a\n",
      "faithful\n",
      "Animal,\n",
      "Dog\n",
      "is\n",
      "cute.\n"
     ]
    },
    {
     "data": {
      "text/plain": [
       "2"
      ]
     },
     "execution_count": 181,
     "metadata": {},
     "output_type": "execute_result"
    }
   ],
   "source": [
    "countDog('Dog is a faithful Animal, Dog is cute.')"
   ]
  },
  {
   "cell_type": "code",
   "execution_count": 186,
   "id": "8391bbc9-638a-416f-8d88-bb2d99133f29",
   "metadata": {},
   "outputs": [
    {
     "data": {
      "text/plain": [
       "['soup', 'salad']"
      ]
     },
     "execution_count": 186,
     "metadata": {},
     "output_type": "execute_result"
    }
   ],
   "source": [
    "seq = ['soup', 'dog','salad', 'cat', 'great']\n",
    "list(filter (lambda test: test[0] == \"s\",seq))"
   ]
  },
  {
   "cell_type": "code",
   "execution_count": 192,
   "id": "dcfa6850-aef8-486a-8f05-ec2f5b0fa4b9",
   "metadata": {},
   "outputs": [],
   "source": [
    "def caught_speeding(speed, is_birthday):\n",
    "    if speed <=60 and is_birthday == False:\n",
    "        return 'No Ticket'\n",
    "    elif speed <=65 and is_birthday == True:\n",
    "        return 'No Ticket'\n",
    "    elif  60< speed <=80 and is_birthday == False:\n",
    "        return 'Small Ticket'\n",
    "    elif  65< speed <=85 and is_birthday == True:\n",
    "        return 'Small Ticket'\n",
    "    elif speed > 80 and is_birthday == False:\n",
    "        return 'Big Ticket'\n",
    "    elif speed >85 and is_birthday == True:\n",
    "        return 'Big Ticket'"
   ]
  },
  {
   "cell_type": "code",
   "execution_count": 193,
   "id": "8bfe4add-d46c-48e7-8b32-64c7e3826968",
   "metadata": {},
   "outputs": [
    {
     "data": {
      "text/plain": [
       "'Small Ticket'"
      ]
     },
     "execution_count": 193,
     "metadata": {},
     "output_type": "execute_result"
    }
   ],
   "source": [
    "caught_speeding(81,True)"
   ]
  },
  {
   "cell_type": "code",
   "execution_count": 194,
   "id": "99227243-67ce-4ea9-be69-4eb3947fd4ef",
   "metadata": {},
   "outputs": [
    {
     "data": {
      "text/plain": [
       "'Big Ticket'"
      ]
     },
     "execution_count": 194,
     "metadata": {},
     "output_type": "execute_result"
    }
   ],
   "source": [
    "caught_speeding(81,False)"
   ]
  },
  {
   "cell_type": "code",
   "execution_count": null,
   "id": "912afd4f-431b-4a2a-9f5c-c34f5fbae5c9",
   "metadata": {},
   "outputs": [],
   "source": []
  }
 ],
 "metadata": {
  "kernelspec": {
   "display_name": "Python 3 (ipykernel)",
   "language": "python",
   "name": "python3"
  },
  "language_info": {
   "codemirror_mode": {
    "name": "ipython",
    "version": 3
   },
   "file_extension": ".py",
   "mimetype": "text/x-python",
   "name": "python",
   "nbconvert_exporter": "python",
   "pygments_lexer": "ipython3",
   "version": "3.11.7"
  }
 },
 "nbformat": 4,
 "nbformat_minor": 5
}
